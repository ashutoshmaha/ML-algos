{
 "cells": [
  {
   "cell_type": "code",
   "execution_count": 1,
   "metadata": {},
   "outputs": [
    {
     "data": {
      "text/html": [
       "\n",
       "            <div>\n",
       "                <p><b>SparkSession - in-memory</b></p>\n",
       "                \n",
       "        <div>\n",
       "            <p><b>SparkContext</b></p>\n",
       "\n",
       "            <p><a href=\"http://LAPTOP-9K47RUHA:4040\">Spark UI</a></p>\n",
       "\n",
       "            <dl>\n",
       "              <dt>Version</dt>\n",
       "                <dd><code>v3.1.1</code></dd>\n",
       "              <dt>Master</dt>\n",
       "                <dd><code>local[*]</code></dd>\n",
       "              <dt>AppName</dt>\n",
       "                <dd><code>pyspark-shell</code></dd>\n",
       "            </dl>\n",
       "        </div>\n",
       "        \n",
       "            </div>\n",
       "        "
      ],
      "text/plain": [
       "<pyspark.sql.session.SparkSession at 0x1ea5ccbb3d0>"
      ]
     },
     "execution_count": 1,
     "metadata": {},
     "output_type": "execute_result"
    },
    {
     "data": {
      "application/javascript": [
       "\n",
       "            setTimeout(function() {\n",
       "                var nbb_cell_id = 1;\n",
       "                var nbb_unformatted_code = \"%reload_ext nb_black\\nimport pandas as pd\\nimport findspark\\n\\nfindspark.init()\\nimport pyspark\\n\\nfrom pyspark.sql import SparkSession\\nimport pyspark.sql.functions as F\\nimport pyspark.sql.types as T\\n\\nspark = SparkSession.builder.getOrCreate()\\nspark\";\n",
       "                var nbb_formatted_code = \"%reload_ext nb_black\\nimport pandas as pd\\nimport findspark\\n\\nfindspark.init()\\nimport pyspark\\n\\nfrom pyspark.sql import SparkSession\\nimport pyspark.sql.functions as F\\nimport pyspark.sql.types as T\\n\\nspark = SparkSession.builder.getOrCreate()\\nspark\";\n",
       "                var nbb_cells = Jupyter.notebook.get_cells();\n",
       "                for (var i = 0; i < nbb_cells.length; ++i) {\n",
       "                    if (nbb_cells[i].input_prompt_number == nbb_cell_id) {\n",
       "                        if (nbb_cells[i].get_text() == nbb_unformatted_code) {\n",
       "                             nbb_cells[i].set_text(nbb_formatted_code);\n",
       "                        }\n",
       "                        break;\n",
       "                    }\n",
       "                }\n",
       "            }, 500);\n",
       "            "
      ],
      "text/plain": [
       "<IPython.core.display.Javascript object>"
      ]
     },
     "metadata": {},
     "output_type": "display_data"
    }
   ],
   "source": [
    "#Kaggle link to used dataset- https://www.kaggle.com/ntnu-testimon/paysim1\n",
    "\n",
    "%reload_ext nb_black\n",
    "import pandas as pd\n",
    "import findspark\n",
    "\n",
    "findspark.init()\n",
    "import pyspark\n",
    "\n",
    "from pyspark.sql import SparkSession\n",
    "import pyspark.sql.functions as F\n",
    "import pyspark.sql.types as T\n",
    "\n",
    "spark = SparkSession.builder.getOrCreate()\n",
    "spark"
   ]
  },
  {
   "cell_type": "code",
   "execution_count": 2,
   "metadata": {},
   "outputs": [
    {
     "data": {
      "application/javascript": [
       "\n",
       "            setTimeout(function() {\n",
       "                var nbb_cell_id = 2;\n",
       "                var nbb_unformatted_code = \"import os\\nfrom os.path import isfile, join\\n\\nloc = os.path.abspath(\\\"\\\")\\ndata_loc = f\\\"{loc}/data\\\"\";\n",
       "                var nbb_formatted_code = \"import os\\nfrom os.path import isfile, join\\n\\nloc = os.path.abspath(\\\"\\\")\\ndata_loc = f\\\"{loc}/data\\\"\";\n",
       "                var nbb_cells = Jupyter.notebook.get_cells();\n",
       "                for (var i = 0; i < nbb_cells.length; ++i) {\n",
       "                    if (nbb_cells[i].input_prompt_number == nbb_cell_id) {\n",
       "                        if (nbb_cells[i].get_text() == nbb_unformatted_code) {\n",
       "                             nbb_cells[i].set_text(nbb_formatted_code);\n",
       "                        }\n",
       "                        break;\n",
       "                    }\n",
       "                }\n",
       "            }, 500);\n",
       "            "
      ],
      "text/plain": [
       "<IPython.core.display.Javascript object>"
      ]
     },
     "metadata": {},
     "output_type": "display_data"
    }
   ],
   "source": [
    "import os\n",
    "from os.path import isfile, join\n",
    "\n",
    "loc = os.path.abspath(\"\")\n",
    "data_loc = f\"{loc}/data\""
   ]
  },
  {
   "cell_type": "code",
   "execution_count": 3,
   "metadata": {},
   "outputs": [
    {
     "name": "stdout",
     "output_type": "stream",
     "text": [
      "+----+--------+---------+-----------+-------------+--------------+-----------+--------------+--------------+-------+--------------+\n",
      "|step|type    |amount   |nameOrig   |oldbalanceOrg|newbalanceOrig|nameDest   |oldbalanceDest|newbalanceDest|isFraud|isFlaggedFraud|\n",
      "+----+--------+---------+-----------+-------------+--------------+-----------+--------------+--------------+-------+--------------+\n",
      "|1   |PAYMENT |9839.64  |C1231006815|170136.0     |160296.36     |M1979787155|0.0           |0.0           |0      |0             |\n",
      "|1   |PAYMENT |1864.28  |C1666544295|21249.0      |19384.72      |M2044282225|0.0           |0.0           |0      |0             |\n",
      "|1   |TRANSFER|181.0    |C1305486145|181.0        |0.0           |C553264065 |0.0           |0.0           |1      |0             |\n",
      "|1   |CASH_OUT|181.0    |C840083671 |181.0        |0.0           |C38997010  |21182.0       |0.0           |1      |0             |\n",
      "|1   |PAYMENT |11668.14 |C2048537720|41554.0      |29885.86      |M1230701703|0.0           |0.0           |0      |0             |\n",
      "|1   |PAYMENT |7817.71  |C90045638  |53860.0      |46042.29      |M573487274 |0.0           |0.0           |0      |0             |\n",
      "|1   |PAYMENT |7107.77  |C154988899 |183195.0     |176087.23     |M408069119 |0.0           |0.0           |0      |0             |\n",
      "|1   |PAYMENT |7861.64  |C1912850431|176087.23    |168225.59     |M633326333 |0.0           |0.0           |0      |0             |\n",
      "|1   |PAYMENT |4024.36  |C1265012928|2671.0       |0.0           |M1176932104|0.0           |0.0           |0      |0             |\n",
      "|1   |DEBIT   |5337.77  |C712410124 |41720.0      |36382.23      |C195600860 |41898.0       |40348.79      |0      |0             |\n",
      "|1   |DEBIT   |9644.94  |C1900366749|4465.0       |0.0           |C997608398 |10845.0       |157982.12     |0      |0             |\n",
      "|1   |PAYMENT |3099.97  |C249177573 |20771.0      |17671.03      |M2096539129|0.0           |0.0           |0      |0             |\n",
      "|1   |PAYMENT |2560.74  |C1648232591|5070.0       |2509.26       |M972865270 |0.0           |0.0           |0      |0             |\n",
      "|1   |PAYMENT |11633.76 |C1716932897|10127.0      |0.0           |M801569151 |0.0           |0.0           |0      |0             |\n",
      "|1   |PAYMENT |4098.78  |C1026483832|503264.0     |499165.22     |M1635378213|0.0           |0.0           |0      |0             |\n",
      "|1   |CASH_OUT|229133.94|C905080434 |15325.0      |0.0           |C476402209 |5083.0        |51513.44      |0      |0             |\n",
      "|1   |PAYMENT |1563.82  |C761750706 |450.0        |0.0           |M1731217984|0.0           |0.0           |0      |0             |\n",
      "|1   |PAYMENT |1157.86  |C1237762639|21156.0      |19998.14      |M1877062907|0.0           |0.0           |0      |0             |\n",
      "|1   |PAYMENT |671.64   |C2033524545|15123.0      |14451.36      |M473053293 |0.0           |0.0           |0      |0             |\n",
      "|1   |TRANSFER|215310.3 |C1670993182|705.0        |0.0           |C1100439041|22425.0       |0.0           |0      |0             |\n",
      "+----+--------+---------+-----------+-------------+--------------+-----------+--------------+--------------+-------+--------------+\n",
      "only showing top 20 rows\n",
      "\n"
     ]
    },
    {
     "data": {
      "application/javascript": [
       "\n",
       "            setTimeout(function() {\n",
       "                var nbb_cell_id = 3;\n",
       "                var nbb_unformatted_code = \"fin = spark.read.csv(\\n    r\\\"C:/Users/mahaj/Downloads/Finance.csv\\\", inferSchema=True, header=True\\n)\\nfin.show(truncate=False)\";\n",
       "                var nbb_formatted_code = \"fin = spark.read.csv(\\n    r\\\"C:/Users/mahaj/Downloads/Finance.csv\\\", inferSchema=True, header=True\\n)\\nfin.show(truncate=False)\";\n",
       "                var nbb_cells = Jupyter.notebook.get_cells();\n",
       "                for (var i = 0; i < nbb_cells.length; ++i) {\n",
       "                    if (nbb_cells[i].input_prompt_number == nbb_cell_id) {\n",
       "                        if (nbb_cells[i].get_text() == nbb_unformatted_code) {\n",
       "                             nbb_cells[i].set_text(nbb_formatted_code);\n",
       "                        }\n",
       "                        break;\n",
       "                    }\n",
       "                }\n",
       "            }, 500);\n",
       "            "
      ],
      "text/plain": [
       "<IPython.core.display.Javascript object>"
      ]
     },
     "metadata": {},
     "output_type": "display_data"
    }
   ],
   "source": [
    "fin = spark.read.csv(\n",
    "    r\"C:/Users/mahaj/Downloads/Finance.csv\", inferSchema=True, header=True\n",
    ")\n",
    "fin.show(truncate=False)"
   ]
  },
  {
   "cell_type": "code",
   "execution_count": 4,
   "metadata": {},
   "outputs": [
    {
     "name": "stdout",
     "output_type": "stream",
     "text": [
      "+--------+---------+-------------+--------------+-------+\n",
      "|type    |amount   |oldbalanceOrg|newbalanceOrig|isFraud|\n",
      "+--------+---------+-------------+--------------+-------+\n",
      "|PAYMENT |9839.64  |170136.0     |160296.36     |0      |\n",
      "|PAYMENT |1864.28  |21249.0      |19384.72      |0      |\n",
      "|TRANSFER|181.0    |181.0        |0.0           |1      |\n",
      "|CASH_OUT|181.0    |181.0        |0.0           |1      |\n",
      "|PAYMENT |11668.14 |41554.0      |29885.86      |0      |\n",
      "|PAYMENT |7817.71  |53860.0      |46042.29      |0      |\n",
      "|PAYMENT |7107.77  |183195.0     |176087.23     |0      |\n",
      "|PAYMENT |7861.64  |176087.23    |168225.59     |0      |\n",
      "|PAYMENT |4024.36  |2671.0       |0.0           |0      |\n",
      "|DEBIT   |5337.77  |41720.0      |36382.23      |0      |\n",
      "|DEBIT   |9644.94  |4465.0       |0.0           |0      |\n",
      "|PAYMENT |3099.97  |20771.0      |17671.03      |0      |\n",
      "|PAYMENT |2560.74  |5070.0       |2509.26       |0      |\n",
      "|PAYMENT |11633.76 |10127.0      |0.0           |0      |\n",
      "|PAYMENT |4098.78  |503264.0     |499165.22     |0      |\n",
      "|CASH_OUT|229133.94|15325.0      |0.0           |0      |\n",
      "|PAYMENT |1563.82  |450.0        |0.0           |0      |\n",
      "|PAYMENT |1157.86  |21156.0      |19998.14      |0      |\n",
      "|PAYMENT |671.64   |15123.0      |14451.36      |0      |\n",
      "|TRANSFER|215310.3 |705.0        |0.0           |0      |\n",
      "+--------+---------+-------------+--------------+-------+\n",
      "only showing top 20 rows\n",
      "\n"
     ]
    },
    {
     "data": {
      "application/javascript": [
       "\n",
       "            setTimeout(function() {\n",
       "                var nbb_cell_id = 4;\n",
       "                var nbb_unformatted_code = \"fin = fin.select(\\\"type\\\", \\\"amount\\\", \\\"oldbalanceOrg\\\", \\\"newbalanceOrig\\\", \\\"isFraud\\\")\\nfin.show(truncate=False)\";\n",
       "                var nbb_formatted_code = \"fin = fin.select(\\\"type\\\", \\\"amount\\\", \\\"oldbalanceOrg\\\", \\\"newbalanceOrig\\\", \\\"isFraud\\\")\\nfin.show(truncate=False)\";\n",
       "                var nbb_cells = Jupyter.notebook.get_cells();\n",
       "                for (var i = 0; i < nbb_cells.length; ++i) {\n",
       "                    if (nbb_cells[i].input_prompt_number == nbb_cell_id) {\n",
       "                        if (nbb_cells[i].get_text() == nbb_unformatted_code) {\n",
       "                             nbb_cells[i].set_text(nbb_formatted_code);\n",
       "                        }\n",
       "                        break;\n",
       "                    }\n",
       "                }\n",
       "            }, 500);\n",
       "            "
      ],
      "text/plain": [
       "<IPython.core.display.Javascript object>"
      ]
     },
     "metadata": {},
     "output_type": "display_data"
    }
   ],
   "source": [
    "fin = fin.select(\"type\", \"amount\", \"oldbalanceOrg\", \"newbalanceOrig\", \"isFraud\")\n",
    "fin.show(truncate=False)"
   ]
  },
  {
   "cell_type": "code",
   "execution_count": 5,
   "metadata": {},
   "outputs": [
    {
     "data": {
      "text/plain": [
       "pyspark.sql.dataframe.DataFrame"
      ]
     },
     "execution_count": 5,
     "metadata": {},
     "output_type": "execute_result"
    },
    {
     "data": {
      "application/javascript": [
       "\n",
       "            setTimeout(function() {\n",
       "                var nbb_cell_id = 5;\n",
       "                var nbb_unformatted_code = \"type(fin)\";\n",
       "                var nbb_formatted_code = \"type(fin)\";\n",
       "                var nbb_cells = Jupyter.notebook.get_cells();\n",
       "                for (var i = 0; i < nbb_cells.length; ++i) {\n",
       "                    if (nbb_cells[i].input_prompt_number == nbb_cell_id) {\n",
       "                        if (nbb_cells[i].get_text() == nbb_unformatted_code) {\n",
       "                             nbb_cells[i].set_text(nbb_formatted_code);\n",
       "                        }\n",
       "                        break;\n",
       "                    }\n",
       "                }\n",
       "            }, 500);\n",
       "            "
      ],
      "text/plain": [
       "<IPython.core.display.Javascript object>"
      ]
     },
     "metadata": {},
     "output_type": "display_data"
    }
   ],
   "source": [
    "type(fin)"
   ]
  },
  {
   "cell_type": "markdown",
   "metadata": {},
   "source": [
    "# Train and Test Splitting"
   ]
  },
  {
   "cell_type": "code",
   "execution_count": 6,
   "metadata": {},
   "outputs": [
    {
     "data": {
      "application/javascript": [
       "\n",
       "            setTimeout(function() {\n",
       "                var nbb_cell_id = 6;\n",
       "                var nbb_unformatted_code = \"train, test = fin.randomSplit(\\n    [0.7, 0.3], seed=7\\n)  # no sequencing in dataset so the random splitting is done\";\n",
       "                var nbb_formatted_code = \"train, test = fin.randomSplit(\\n    [0.7, 0.3], seed=7\\n)  # no sequencing in dataset so the random splitting is done\";\n",
       "                var nbb_cells = Jupyter.notebook.get_cells();\n",
       "                for (var i = 0; i < nbb_cells.length; ++i) {\n",
       "                    if (nbb_cells[i].input_prompt_number == nbb_cell_id) {\n",
       "                        if (nbb_cells[i].get_text() == nbb_unformatted_code) {\n",
       "                             nbb_cells[i].set_text(nbb_formatted_code);\n",
       "                        }\n",
       "                        break;\n",
       "                    }\n",
       "                }\n",
       "            }, 500);\n",
       "            "
      ],
      "text/plain": [
       "<IPython.core.display.Javascript object>"
      ]
     },
     "metadata": {},
     "output_type": "display_data"
    }
   ],
   "source": [
    "train, test = fin.randomSplit(\n",
    "    [0.7, 0.3], seed=7\n",
    ")  # no sequencing in dataset so the random splitting is done"
   ]
  },
  {
   "cell_type": "code",
   "execution_count": 7,
   "metadata": {},
   "outputs": [
    {
     "name": "stdout",
     "output_type": "stream",
     "text": [
      "Train set length is: 4452488\n",
      "Test set length is: 1910132\n",
      "+-------+------+-------------+--------------+-------+\n",
      "|type   |amount|oldbalanceOrg|newbalanceOrig|isFraud|\n",
      "+-------+------+-------------+--------------+-------+\n",
      "|CASH_IN|5.44  |0.0          |5.44          |0      |\n",
      "|CASH_IN|5.66  |5061561.06   |5061566.72    |0      |\n",
      "|CASH_IN|9.02  |2416260.59   |2416269.61    |0      |\n",
      "+-------+------+-------------+--------------+-------+\n",
      "only showing top 3 rows\n",
      "\n"
     ]
    },
    {
     "data": {
      "application/javascript": [
       "\n",
       "            setTimeout(function() {\n",
       "                var nbb_cell_id = 7;\n",
       "                var nbb_unformatted_code = \"print(f\\\"Train set length is: {train.count()}\\\")\\nprint(f\\\"Test set length is: {test.count()}\\\")\\n\\ntrain.show(n=3, truncate=False)\";\n",
       "                var nbb_formatted_code = \"print(f\\\"Train set length is: {train.count()}\\\")\\nprint(f\\\"Test set length is: {test.count()}\\\")\\n\\ntrain.show(n=3, truncate=False)\";\n",
       "                var nbb_cells = Jupyter.notebook.get_cells();\n",
       "                for (var i = 0; i < nbb_cells.length; ++i) {\n",
       "                    if (nbb_cells[i].input_prompt_number == nbb_cell_id) {\n",
       "                        if (nbb_cells[i].get_text() == nbb_unformatted_code) {\n",
       "                             nbb_cells[i].set_text(nbb_formatted_code);\n",
       "                        }\n",
       "                        break;\n",
       "                    }\n",
       "                }\n",
       "            }, 500);\n",
       "            "
      ],
      "text/plain": [
       "<IPython.core.display.Javascript object>"
      ]
     },
     "metadata": {},
     "output_type": "display_data"
    }
   ],
   "source": [
    "print(f\"Train set length is: {train.count()}\")\n",
    "print(f\"Test set length is: {test.count()}\")\n",
    "\n",
    "train.show(n=3, truncate=False)"
   ]
  },
  {
   "cell_type": "code",
   "execution_count": 8,
   "metadata": {},
   "outputs": [
    {
     "data": {
      "text/plain": [
       "[('type', 'string'),\n",
       " ('amount', 'double'),\n",
       " ('oldbalanceOrg', 'double'),\n",
       " ('newbalanceOrig', 'double'),\n",
       " ('isFraud', 'int')]"
      ]
     },
     "execution_count": 8,
     "metadata": {},
     "output_type": "execute_result"
    },
    {
     "data": {
      "application/javascript": [
       "\n",
       "            setTimeout(function() {\n",
       "                var nbb_cell_id = 8;\n",
       "                var nbb_unformatted_code = \"train.dtypes  # checking type of features\";\n",
       "                var nbb_formatted_code = \"train.dtypes  # checking type of features\";\n",
       "                var nbb_cells = Jupyter.notebook.get_cells();\n",
       "                for (var i = 0; i < nbb_cells.length; ++i) {\n",
       "                    if (nbb_cells[i].input_prompt_number == nbb_cell_id) {\n",
       "                        if (nbb_cells[i].get_text() == nbb_unformatted_code) {\n",
       "                             nbb_cells[i].set_text(nbb_formatted_code);\n",
       "                        }\n",
       "                        break;\n",
       "                    }\n",
       "                }\n",
       "            }, 500);\n",
       "            "
      ],
      "text/plain": [
       "<IPython.core.display.Javascript object>"
      ]
     },
     "metadata": {},
     "output_type": "display_data"
    }
   ],
   "source": [
    "train.dtypes  # checking type of features"
   ]
  },
  {
   "cell_type": "code",
   "execution_count": 9,
   "metadata": {},
   "outputs": [
    {
     "name": "stdout",
     "output_type": "stream",
     "text": [
      "['type']\n",
      "['amount', 'oldbalanceOrg', 'newbalanceOrig']\n"
     ]
    },
    {
     "data": {
      "application/javascript": [
       "\n",
       "            setTimeout(function() {\n",
       "                var nbb_cell_id = 9;\n",
       "                var nbb_unformatted_code = \"# we add features with categorical values in categorical list & similar for numerical values through list comprehension.\\ncategorical = [x for (x, dataType) in train.dtypes if dataType == \\\"string\\\"]\\nnumerical = [\\n    x for (x, dataType) in train.dtypes if ((dataType == \\\"double\\\") & (x != \\\"isFraud\\\"))\\n]\\n\\nprint(categorical)\\nprint(numerical)\";\n",
       "                var nbb_formatted_code = \"# we add features with categorical values in categorical list & similar for numerical values through list comprehension.\\ncategorical = [x for (x, dataType) in train.dtypes if dataType == \\\"string\\\"]\\nnumerical = [\\n    x for (x, dataType) in train.dtypes if ((dataType == \\\"double\\\") & (x != \\\"isFraud\\\"))\\n]\\n\\nprint(categorical)\\nprint(numerical)\";\n",
       "                var nbb_cells = Jupyter.notebook.get_cells();\n",
       "                for (var i = 0; i < nbb_cells.length; ++i) {\n",
       "                    if (nbb_cells[i].input_prompt_number == nbb_cell_id) {\n",
       "                        if (nbb_cells[i].get_text() == nbb_unformatted_code) {\n",
       "                             nbb_cells[i].set_text(nbb_formatted_code);\n",
       "                        }\n",
       "                        break;\n",
       "                    }\n",
       "                }\n",
       "            }, 500);\n",
       "            "
      ],
      "text/plain": [
       "<IPython.core.display.Javascript object>"
      ]
     },
     "metadata": {},
     "output_type": "display_data"
    }
   ],
   "source": [
    "# we add features with categorical values in categorical list & similar for numerical values through list comprehension.\n",
    "categorical = [x for (x, dataType) in train.dtypes if dataType == \"string\"]\n",
    "numerical = [\n",
    "    x for (x, dataType) in train.dtypes if ((dataType == \"double\") & (x != \"isFraud\"))\n",
    "]\n",
    "\n",
    "print(categorical)\n",
    "print(numerical)"
   ]
  },
  {
   "cell_type": "code",
   "execution_count": 10,
   "metadata": {},
   "outputs": [
    {
     "name": "stdout",
     "output_type": "stream",
     "text": [
      "+-----------+\n",
      "|count(type)|\n",
      "+-----------+\n",
      "|          5|\n",
      "+-----------+\n",
      "\n"
     ]
    },
    {
     "data": {
      "application/javascript": [
       "\n",
       "            setTimeout(function() {\n",
       "                var nbb_cell_id = 10;\n",
       "                var nbb_unformatted_code = \"train.agg(F.countDistinct(\\\"type\\\")).show()  # used to check number of categories\";\n",
       "                var nbb_formatted_code = \"train.agg(F.countDistinct(\\\"type\\\")).show()  # used to check number of categories\";\n",
       "                var nbb_cells = Jupyter.notebook.get_cells();\n",
       "                for (var i = 0; i < nbb_cells.length; ++i) {\n",
       "                    if (nbb_cells[i].input_prompt_number == nbb_cell_id) {\n",
       "                        if (nbb_cells[i].get_text() == nbb_unformatted_code) {\n",
       "                             nbb_cells[i].set_text(nbb_formatted_code);\n",
       "                        }\n",
       "                        break;\n",
       "                    }\n",
       "                }\n",
       "            }, 500);\n",
       "            "
      ],
      "text/plain": [
       "<IPython.core.display.Javascript object>"
      ]
     },
     "metadata": {},
     "output_type": "display_data"
    }
   ],
   "source": [
    "train.agg(F.countDistinct(\"type\")).show()  # used to check number of categories"
   ]
  },
  {
   "cell_type": "code",
   "execution_count": 11,
   "metadata": {},
   "outputs": [
    {
     "name": "stdout",
     "output_type": "stream",
     "text": [
      "+--------+-------+\n",
      "|type    |count  |\n",
      "+--------+-------+\n",
      "|TRANSFER|373168 |\n",
      "|CASH_IN |978910 |\n",
      "|CASH_OUT|1566234|\n",
      "|PAYMENT |1505050|\n",
      "|DEBIT   |29126  |\n",
      "+--------+-------+\n",
      "\n"
     ]
    },
    {
     "data": {
      "application/javascript": [
       "\n",
       "            setTimeout(function() {\n",
       "                var nbb_cell_id = 11;\n",
       "                var nbb_unformatted_code = \"train.groupBy(\\n    \\\"type\\\"\\n).count().show(truncate=False)  # grouping of type column to show total number of values each type has.\";\n",
       "                var nbb_formatted_code = \"train.groupBy(\\\"type\\\").count().show(\\n    truncate=False\\n)  # grouping of type column to show total number of values each type has.\";\n",
       "                var nbb_cells = Jupyter.notebook.get_cells();\n",
       "                for (var i = 0; i < nbb_cells.length; ++i) {\n",
       "                    if (nbb_cells[i].input_prompt_number == nbb_cell_id) {\n",
       "                        if (nbb_cells[i].get_text() == nbb_unformatted_code) {\n",
       "                             nbb_cells[i].set_text(nbb_formatted_code);\n",
       "                        }\n",
       "                        break;\n",
       "                    }\n",
       "                }\n",
       "            }, 500);\n",
       "            "
      ],
      "text/plain": [
       "<IPython.core.display.Javascript object>"
      ]
     },
     "metadata": {},
     "output_type": "display_data"
    }
   ],
   "source": [
    "train.groupBy(\"type\").count().show(\n",
    "    truncate=False\n",
    ")  # grouping of type column to show total number of values each type has."
   ]
  },
  {
   "cell_type": "markdown",
   "metadata": {},
   "source": [
    "# One_hot_encoding and string_indexing"
   ]
  },
  {
   "cell_type": "code",
   "execution_count": 12,
   "metadata": {},
   "outputs": [
    {
     "data": {
      "application/javascript": [
       "\n",
       "            setTimeout(function() {\n",
       "                var nbb_cell_id = 12;\n",
       "                var nbb_unformatted_code = \"from pyspark.ml.feature import OneHotEncoder, StringIndexer\";\n",
       "                var nbb_formatted_code = \"from pyspark.ml.feature import OneHotEncoder, StringIndexer\";\n",
       "                var nbb_cells = Jupyter.notebook.get_cells();\n",
       "                for (var i = 0; i < nbb_cells.length; ++i) {\n",
       "                    if (nbb_cells[i].input_prompt_number == nbb_cell_id) {\n",
       "                        if (nbb_cells[i].get_text() == nbb_unformatted_code) {\n",
       "                             nbb_cells[i].set_text(nbb_formatted_code);\n",
       "                        }\n",
       "                        break;\n",
       "                    }\n",
       "                }\n",
       "            }, 500);\n",
       "            "
      ],
      "text/plain": [
       "<IPython.core.display.Javascript object>"
      ]
     },
     "metadata": {},
     "output_type": "display_data"
    }
   ],
   "source": [
    "from pyspark.ml.feature import OneHotEncoder, StringIndexer"
   ]
  },
  {
   "cell_type": "code",
   "execution_count": 13,
   "metadata": {},
   "outputs": [
    {
     "data": {
      "application/javascript": [
       "\n",
       "            setTimeout(function() {\n",
       "                var nbb_cell_id = 13;\n",
       "                var nbb_unformatted_code = \"str_indexer= [StringIndexer(inputCol=x, outputCol=x + \\\"_StringIndexer\\\", handleInvalid=\\\"skip\\\") for x in categorical] #list comprehension for each column in categoricl column\";\n",
       "                var nbb_formatted_code = \"str_indexer = [\\n    StringIndexer(inputCol=x, outputCol=x + \\\"_StringIndexer\\\", handleInvalid=\\\"skip\\\")\\n    for x in categorical\\n]  # list comprehension for each column in categoricl column\";\n",
       "                var nbb_cells = Jupyter.notebook.get_cells();\n",
       "                for (var i = 0; i < nbb_cells.length; ++i) {\n",
       "                    if (nbb_cells[i].input_prompt_number == nbb_cell_id) {\n",
       "                        if (nbb_cells[i].get_text() == nbb_unformatted_code) {\n",
       "                             nbb_cells[i].set_text(nbb_formatted_code);\n",
       "                        }\n",
       "                        break;\n",
       "                    }\n",
       "                }\n",
       "            }, 500);\n",
       "            "
      ],
      "text/plain": [
       "<IPython.core.display.Javascript object>"
      ]
     },
     "metadata": {},
     "output_type": "display_data"
    }
   ],
   "source": [
    "str_indexer= [StringIndexer(inputCol=x, outputCol=x + \"_StringIndexer\", handleInvalid=\"skip\") for x in categorical] #list comprehension for each column in categoricl column\n"
   ]
  },
  {
   "cell_type": "code",
   "execution_count": 14,
   "metadata": {},
   "outputs": [
    {
     "data": {
      "text/plain": [
       "[StringIndexer_15181af3d473]"
      ]
     },
     "execution_count": 14,
     "metadata": {},
     "output_type": "execute_result"
    },
    {
     "data": {
      "application/javascript": [
       "\n",
       "            setTimeout(function() {\n",
       "                var nbb_cell_id = 14;\n",
       "                var nbb_unformatted_code = \"str_indexer\";\n",
       "                var nbb_formatted_code = \"str_indexer\";\n",
       "                var nbb_cells = Jupyter.notebook.get_cells();\n",
       "                for (var i = 0; i < nbb_cells.length; ++i) {\n",
       "                    if (nbb_cells[i].input_prompt_number == nbb_cell_id) {\n",
       "                        if (nbb_cells[i].get_text() == nbb_unformatted_code) {\n",
       "                             nbb_cells[i].set_text(nbb_formatted_code);\n",
       "                        }\n",
       "                        break;\n",
       "                    }\n",
       "                }\n",
       "            }, 500);\n",
       "            "
      ],
      "text/plain": [
       "<IPython.core.display.Javascript object>"
      ]
     },
     "metadata": {},
     "output_type": "display_data"
    }
   ],
   "source": [
    "str_indexer"
   ]
  },
  {
   "cell_type": "code",
   "execution_count": 15,
   "metadata": {},
   "outputs": [
    {
     "data": {
      "application/javascript": [
       "\n",
       "            setTimeout(function() {\n",
       "                var nbb_cell_id = 15;\n",
       "                var nbb_unformatted_code = \"one_hot_enc = [\\n    OneHotEncoder(\\n        inputCols=[\\n            f\\\"{x}_StringIndexer\\\" for x in categorical\\n        ],  # input categorical vars as binary vectors in inputCols & output them in outputCols\\n        outputCols=[f\\\"{x}_OneHotEncoder\\\" for x in categorical],\\n    )\\n]\";\n",
       "                var nbb_formatted_code = \"one_hot_enc = [\\n    OneHotEncoder(\\n        inputCols=[\\n            f\\\"{x}_StringIndexer\\\" for x in categorical\\n        ],  # input categorical vars as binary vectors in inputCols & output them in outputCols\\n        outputCols=[f\\\"{x}_OneHotEncoder\\\" for x in categorical],\\n    )\\n]\";\n",
       "                var nbb_cells = Jupyter.notebook.get_cells();\n",
       "                for (var i = 0; i < nbb_cells.length; ++i) {\n",
       "                    if (nbb_cells[i].input_prompt_number == nbb_cell_id) {\n",
       "                        if (nbb_cells[i].get_text() == nbb_unformatted_code) {\n",
       "                             nbb_cells[i].set_text(nbb_formatted_code);\n",
       "                        }\n",
       "                        break;\n",
       "                    }\n",
       "                }\n",
       "            }, 500);\n",
       "            "
      ],
      "text/plain": [
       "<IPython.core.display.Javascript object>"
      ]
     },
     "metadata": {},
     "output_type": "display_data"
    }
   ],
   "source": [
    "one_hot_enc = [\n",
    "    OneHotEncoder(\n",
    "        inputCols=[\n",
    "            f\"{x}_StringIndexer\" for x in categorical\n",
    "        ],  # input categorical vars as binary vectors in inputCols & output them in outputCols\n",
    "        outputCols=[f\"{x}_OneHotEncoder\" for x in categorical],\n",
    "    )\n",
    "]"
   ]
  },
  {
   "cell_type": "code",
   "execution_count": 16,
   "metadata": {},
   "outputs": [
    {
     "data": {
      "text/plain": [
       "[OneHotEncoder_580482c2992c]"
      ]
     },
     "execution_count": 16,
     "metadata": {},
     "output_type": "execute_result"
    },
    {
     "data": {
      "application/javascript": [
       "\n",
       "            setTimeout(function() {\n",
       "                var nbb_cell_id = 16;\n",
       "                var nbb_unformatted_code = \"one_hot_enc\";\n",
       "                var nbb_formatted_code = \"one_hot_enc\";\n",
       "                var nbb_cells = Jupyter.notebook.get_cells();\n",
       "                for (var i = 0; i < nbb_cells.length; ++i) {\n",
       "                    if (nbb_cells[i].input_prompt_number == nbb_cell_id) {\n",
       "                        if (nbb_cells[i].get_text() == nbb_unformatted_code) {\n",
       "                             nbb_cells[i].set_text(nbb_formatted_code);\n",
       "                        }\n",
       "                        break;\n",
       "                    }\n",
       "                }\n",
       "            }, 500);\n",
       "            "
      ],
      "text/plain": [
       "<IPython.core.display.Javascript object>"
      ]
     },
     "metadata": {},
     "output_type": "display_data"
    }
   ],
   "source": [
    "one_hot_enc"
   ]
  },
  {
   "cell_type": "markdown",
   "metadata": {},
   "source": [
    "# Vector assembling "
   ]
  },
  {
   "cell_type": "code",
   "execution_count": 17,
   "metadata": {},
   "outputs": [
    {
     "data": {
      "application/javascript": [
       "\n",
       "            setTimeout(function() {\n",
       "                var nbb_cell_id = 17;\n",
       "                var nbb_unformatted_code = \"from pyspark.ml.feature import VectorAssembler   #used to combine values of input columns into one vector.\";\n",
       "                var nbb_formatted_code = \"from pyspark.ml.feature import (\\n    VectorAssembler,\\n)  # used to combine values of input columns into one vector.\";\n",
       "                var nbb_cells = Jupyter.notebook.get_cells();\n",
       "                for (var i = 0; i < nbb_cells.length; ++i) {\n",
       "                    if (nbb_cells[i].input_prompt_number == nbb_cell_id) {\n",
       "                        if (nbb_cells[i].get_text() == nbb_unformatted_code) {\n",
       "                             nbb_cells[i].set_text(nbb_formatted_code);\n",
       "                        }\n",
       "                        break;\n",
       "                    }\n",
       "                }\n",
       "            }, 500);\n",
       "            "
      ],
      "text/plain": [
       "<IPython.core.display.Javascript object>"
      ]
     },
     "metadata": {},
     "output_type": "display_data"
    }
   ],
   "source": [
    "from pyspark.ml.feature import (\n",
    "    VectorAssembler,\n",
    ")  # used to combine values of input columns into one vector."
   ]
  },
  {
   "cell_type": "code",
   "execution_count": 18,
   "metadata": {},
   "outputs": [
    {
     "data": {
      "text/plain": [
       "['amount', 'oldbalanceOrg', 'newbalanceOrig', 'type_OneHotEncoder']"
      ]
     },
     "execution_count": 18,
     "metadata": {},
     "output_type": "execute_result"
    },
    {
     "data": {
      "application/javascript": [
       "\n",
       "            setTimeout(function() {\n",
       "                var nbb_cell_id = 18;\n",
       "                var nbb_unformatted_code = \"assemblerin = [x for x in numerical]\\nassemblerin = assemblerin + [f\\\"{x}_OneHotEncoder\\\" for x in categorical]\\nassemblerin\";\n",
       "                var nbb_formatted_code = \"assemblerin = [x for x in numerical]\\nassemblerin = assemblerin + [f\\\"{x}_OneHotEncoder\\\" for x in categorical]\\nassemblerin\";\n",
       "                var nbb_cells = Jupyter.notebook.get_cells();\n",
       "                for (var i = 0; i < nbb_cells.length; ++i) {\n",
       "                    if (nbb_cells[i].input_prompt_number == nbb_cell_id) {\n",
       "                        if (nbb_cells[i].get_text() == nbb_unformatted_code) {\n",
       "                             nbb_cells[i].set_text(nbb_formatted_code);\n",
       "                        }\n",
       "                        break;\n",
       "                    }\n",
       "                }\n",
       "            }, 500);\n",
       "            "
      ],
      "text/plain": [
       "<IPython.core.display.Javascript object>"
      ]
     },
     "metadata": {},
     "output_type": "display_data"
    }
   ],
   "source": [
    "assemblerin = [x for x in numerical]\n",
    "assemblerin = assemblerin + [f\"{x}_OneHotEncoder\" for x in categorical]\n",
    "assemblerin"
   ]
  },
  {
   "cell_type": "code",
   "execution_count": 19,
   "metadata": {},
   "outputs": [
    {
     "data": {
      "application/javascript": [
       "\n",
       "            setTimeout(function() {\n",
       "                var nbb_cell_id = 19;\n",
       "                var nbb_unformatted_code = \"vec_assembler = VectorAssembler(  # collects all input, output columns into one vector\\n    inputCols=assemblerin,\\n    outputCol=\\\"VectorAssembler_features\\\",  # VectorAssembler.features is a column containing all input features as vec type\\n)\";\n",
       "                var nbb_formatted_code = \"vec_assembler = VectorAssembler(  # collects all input, output columns into one vector\\n    inputCols=assemblerin,\\n    outputCol=\\\"VectorAssembler_features\\\",  # VectorAssembler.features is a column containing all input features as vec type\\n)\";\n",
       "                var nbb_cells = Jupyter.notebook.get_cells();\n",
       "                for (var i = 0; i < nbb_cells.length; ++i) {\n",
       "                    if (nbb_cells[i].input_prompt_number == nbb_cell_id) {\n",
       "                        if (nbb_cells[i].get_text() == nbb_unformatted_code) {\n",
       "                             nbb_cells[i].set_text(nbb_formatted_code);\n",
       "                        }\n",
       "                        break;\n",
       "                    }\n",
       "                }\n",
       "            }, 500);\n",
       "            "
      ],
      "text/plain": [
       "<IPython.core.display.Javascript object>"
      ]
     },
     "metadata": {},
     "output_type": "display_data"
    }
   ],
   "source": [
    "vec_assembler = VectorAssembler(  # collects all input, output columns into one vector\n",
    "    inputCols=assemblerin,\n",
    "    outputCol=\"VectorAssembler_features\",  # VectorAssembler.features is a column containing all input features as vec type\n",
    ")"
   ]
  },
  {
   "cell_type": "code",
   "execution_count": 20,
   "metadata": {},
   "outputs": [
    {
     "data": {
      "text/plain": [
       "[StringIndexer_15181af3d473,\n",
       " OneHotEncoder_580482c2992c,\n",
       " VectorAssembler_5a55ab537920]"
      ]
     },
     "execution_count": 20,
     "metadata": {},
     "output_type": "execute_result"
    },
    {
     "data": {
      "application/javascript": [
       "\n",
       "            setTimeout(function() {\n",
       "                var nbb_cell_id = 20;\n",
       "                var nbb_unformatted_code = \"# creating pipeline skeleton\\n# pipeline is used for creating a priority list of preprocessing instructions.\\n\\nsteps = []\\nsteps = steps + str_indexer\\nsteps = steps + one_hot_enc\\nsteps = steps + [vec_assembler]\\n\\nsteps\";\n",
       "                var nbb_formatted_code = \"# creating pipeline skeleton\\n# pipeline is used for creating a priority list of preprocessing instructions.\\n\\nsteps = []\\nsteps = steps + str_indexer\\nsteps = steps + one_hot_enc\\nsteps = steps + [vec_assembler]\\n\\nsteps\";\n",
       "                var nbb_cells = Jupyter.notebook.get_cells();\n",
       "                for (var i = 0; i < nbb_cells.length; ++i) {\n",
       "                    if (nbb_cells[i].input_prompt_number == nbb_cell_id) {\n",
       "                        if (nbb_cells[i].get_text() == nbb_unformatted_code) {\n",
       "                             nbb_cells[i].set_text(nbb_formatted_code);\n",
       "                        }\n",
       "                        break;\n",
       "                    }\n",
       "                }\n",
       "            }, 500);\n",
       "            "
      ],
      "text/plain": [
       "<IPython.core.display.Javascript object>"
      ]
     },
     "metadata": {},
     "output_type": "display_data"
    }
   ],
   "source": [
    "# creating pipeline skeleton\n",
    "# pipeline is used for creating a priority list of preprocessing instructions.\n",
    "\n",
    "steps = []\n",
    "steps = steps + str_indexer\n",
    "steps = steps + one_hot_enc\n",
    "steps = steps + [vec_assembler]\n",
    "\n",
    "steps"
   ]
  },
  {
   "cell_type": "code",
   "execution_count": 21,
   "metadata": {},
   "outputs": [
    {
     "data": {
      "application/javascript": [
       "\n",
       "            setTimeout(function() {\n",
       "                var nbb_cell_id = 21;\n",
       "                var nbb_unformatted_code = \"from pyspark.ml import Pipeline\\n\\npl = Pipeline().setStages(steps)\\nmodel = pl.fit(\\n    train\\n)  # fitting the model onto whole training dataset and then applying it to test dataset\\nplout = model.transform(test)\";\n",
       "                var nbb_formatted_code = \"from pyspark.ml import Pipeline\\n\\npl = Pipeline().setStages(steps)\\nmodel = pl.fit(\\n    train\\n)  # fitting the model onto whole training dataset and then applying it to test dataset\\nplout = model.transform(test)\";\n",
       "                var nbb_cells = Jupyter.notebook.get_cells();\n",
       "                for (var i = 0; i < nbb_cells.length; ++i) {\n",
       "                    if (nbb_cells[i].input_prompt_number == nbb_cell_id) {\n",
       "                        if (nbb_cells[i].get_text() == nbb_unformatted_code) {\n",
       "                             nbb_cells[i].set_text(nbb_formatted_code);\n",
       "                        }\n",
       "                        break;\n",
       "                    }\n",
       "                }\n",
       "            }, 500);\n",
       "            "
      ],
      "text/plain": [
       "<IPython.core.display.Javascript object>"
      ]
     },
     "metadata": {},
     "output_type": "display_data"
    }
   ],
   "source": [
    "from pyspark.ml import Pipeline\n",
    "\n",
    "pl = Pipeline().setStages(steps)\n",
    "model = pl.fit(\n",
    "    train\n",
    ")  # fitting the model onto whole training dataset and then applying it to test dataset\n",
    "plout = model.transform(test)"
   ]
  },
  {
   "cell_type": "code",
   "execution_count": 22,
   "metadata": {},
   "outputs": [
    {
     "name": "stdout",
     "output_type": "stream",
     "text": [
      "+-------+------+-------------+--------------+--------------------------------------------------+\n",
      "|type   |amount|oldbalanceOrg|newbalanceOrig|VectorAssembler_features                          |\n",
      "+-------+------+-------------+--------------+--------------------------------------------------+\n",
      "|CASH_IN|8.44  |39384.0      |39392.44      |[8.44,39384.0,39392.44,0.0,0.0,1.0,0.0]           |\n",
      "|CASH_IN|12.79 |601743.0     |601755.79     |[12.79,601743.0,601755.79,0.0,0.0,1.0,0.0]        |\n",
      "|CASH_IN|14.4  |1.143460813E7|1.143462253E7 |[14.4,1.143460813E7,1.143462253E7,0.0,0.0,1.0,0.0]|\n",
      "|CASH_IN|15.52 |4368030.06   |4368045.59    |[15.52,4368030.06,4368045.59,0.0,0.0,1.0,0.0]     |\n",
      "|CASH_IN|15.59 |1.64294897E7 |1.642950528E7 |[15.59,1.64294897E7,1.642950528E7,0.0,0.0,1.0,0.0]|\n",
      "|CASH_IN|18.53 |951352.78    |951371.31     |[18.53,951352.78,951371.31,0.0,0.0,1.0,0.0]       |\n",
      "|CASH_IN|21.15 |2729078.29   |2729099.44    |[21.15,2729078.29,2729099.44,0.0,0.0,1.0,0.0]     |\n",
      "|CASH_IN|22.67 |405940.0     |405962.67     |[22.67,405940.0,405962.67,0.0,0.0,1.0,0.0]        |\n",
      "|CASH_IN|25.01 |3077402.04   |3077427.04    |[25.01,3077402.04,3077427.04,0.0,0.0,1.0,0.0]     |\n",
      "|CASH_IN|34.05 |90282.0      |90316.05      |[34.05,90282.0,90316.05,0.0,0.0,1.0,0.0]          |\n",
      "|CASH_IN|35.47 |3796691.21   |3796726.68    |[35.47,3796691.21,3796726.68,0.0,0.0,1.0,0.0]     |\n",
      "|CASH_IN|37.11 |1452790.24   |1452827.35    |[37.11,1452790.24,1452827.35,0.0,0.0,1.0,0.0]     |\n",
      "|CASH_IN|38.77 |6210013.72   |6210052.49    |[38.77,6210013.72,6210052.49,0.0,0.0,1.0,0.0]     |\n",
      "|CASH_IN|45.47 |4634070.59   |4634116.06    |[45.47,4634070.59,4634116.06,0.0,0.0,1.0,0.0]     |\n",
      "|CASH_IN|49.27 |1681309.13   |1681358.4     |[49.27,1681309.13,1681358.4,0.0,0.0,1.0,0.0]      |\n",
      "|CASH_IN|57.98 |1290788.6    |1290846.57    |[57.98,1290788.6,1290846.57,0.0,0.0,1.0,0.0]      |\n",
      "|CASH_IN|57.98 |9021204.76   |9021262.74    |[57.98,9021204.76,9021262.74,0.0,0.0,1.0,0.0]     |\n",
      "|CASH_IN|59.23 |20841.0      |20900.23      |[59.23,20841.0,20900.23,0.0,0.0,1.0,0.0]          |\n",
      "|CASH_IN|71.03 |15197.0      |15268.03      |[71.03,15197.0,15268.03,0.0,0.0,1.0,0.0]          |\n",
      "|CASH_IN|72.42 |6183.0       |6255.42       |[72.42,6183.0,6255.42,0.0,0.0,1.0,0.0]            |\n",
      "+-------+------+-------------+--------------+--------------------------------------------------+\n",
      "only showing top 20 rows\n",
      "\n"
     ]
    },
    {
     "data": {
      "application/javascript": [
       "\n",
       "            setTimeout(function() {\n",
       "                var nbb_cell_id = 22;\n",
       "                var nbb_unformatted_code = \"plout.select(\\n    \\\"type\\\",\\n    \\\"amount\\\",\\n    \\\"oldbalanceOrg\\\",\\n    \\\"newbalanceOrig\\\",\\n    \\\"VectorAssembler_features\\\",\\n).show(truncate=False)\";\n",
       "                var nbb_formatted_code = \"plout.select(\\n    \\\"type\\\",\\n    \\\"amount\\\",\\n    \\\"oldbalanceOrg\\\",\\n    \\\"newbalanceOrig\\\",\\n    \\\"VectorAssembler_features\\\",\\n).show(truncate=False)\";\n",
       "                var nbb_cells = Jupyter.notebook.get_cells();\n",
       "                for (var i = 0; i < nbb_cells.length; ++i) {\n",
       "                    if (nbb_cells[i].input_prompt_number == nbb_cell_id) {\n",
       "                        if (nbb_cells[i].get_text() == nbb_unformatted_code) {\n",
       "                             nbb_cells[i].set_text(nbb_formatted_code);\n",
       "                        }\n",
       "                        break;\n",
       "                    }\n",
       "                }\n",
       "            }, 500);\n",
       "            "
      ],
      "text/plain": [
       "<IPython.core.display.Javascript object>"
      ]
     },
     "metadata": {},
     "output_type": "display_data"
    }
   ],
   "source": [
    "plout.select(\n",
    "    \"type\",\n",
    "    \"amount\",\n",
    "    \"oldbalanceOrg\",\n",
    "    \"newbalanceOrig\",\n",
    "    \"VectorAssembler_features\",\n",
    ").show(truncate=False)\n"
   ]
  },
  {
   "cell_type": "markdown",
   "metadata": {},
   "source": [
    "# Train Logistic Regression Model "
   ]
  },
  {
   "cell_type": "code",
   "execution_count": 27,
   "metadata": {},
   "outputs": [
    {
     "data": {
      "application/javascript": [
       "\n",
       "            setTimeout(function() {\n",
       "                var nbb_cell_id = 27;\n",
       "                var nbb_unformatted_code = \"from pyspark.ml.classification import LogisticRegression\";\n",
       "                var nbb_formatted_code = \"from pyspark.ml.classification import LogisticRegression\";\n",
       "                var nbb_cells = Jupyter.notebook.get_cells();\n",
       "                for (var i = 0; i < nbb_cells.length; ++i) {\n",
       "                    if (nbb_cells[i].input_prompt_number == nbb_cell_id) {\n",
       "                        if (nbb_cells[i].get_text() == nbb_unformatted_code) {\n",
       "                             nbb_cells[i].set_text(nbb_formatted_code);\n",
       "                        }\n",
       "                        break;\n",
       "                    }\n",
       "                }\n",
       "            }, 500);\n",
       "            "
      ],
      "text/plain": [
       "<IPython.core.display.Javascript object>"
      ]
     },
     "metadata": {},
     "output_type": "display_data"
    }
   ],
   "source": [
    "from pyspark.ml.classification import LogisticRegression"
   ]
  },
  {
   "cell_type": "code",
   "execution_count": 28,
   "metadata": {},
   "outputs": [
    {
     "data": {
      "application/javascript": [
       "\n",
       "            setTimeout(function() {\n",
       "                var nbb_cell_id = 28;\n",
       "                var nbb_unformatted_code = \"available_data = plout.select(\\n    F.col(\\\"VectorAssembler_features\\\").alias(\\\"features\\\"),\\n    F.col(\\\"isFraud\\\").alias(\\n        \\\"label\\\"\\n    ),  # renaming VectorAssembler_features to features & isFraud to lable, this renaming is mandatory in spark\\n)\";\n",
       "                var nbb_formatted_code = \"available_data = plout.select(\\n    F.col(\\\"VectorAssembler_features\\\").alias(\\\"features\\\"),\\n    F.col(\\\"isFraud\\\").alias(\\n        \\\"label\\\"\\n    ),  # renaming VectorAssembler_features to features & isFraud to lable, this renaming is mandatory in spark\\n)\";\n",
       "                var nbb_cells = Jupyter.notebook.get_cells();\n",
       "                for (var i = 0; i < nbb_cells.length; ++i) {\n",
       "                    if (nbb_cells[i].input_prompt_number == nbb_cell_id) {\n",
       "                        if (nbb_cells[i].get_text() == nbb_unformatted_code) {\n",
       "                             nbb_cells[i].set_text(nbb_formatted_code);\n",
       "                        }\n",
       "                        break;\n",
       "                    }\n",
       "                }\n",
       "            }, 500);\n",
       "            "
      ],
      "text/plain": [
       "<IPython.core.display.Javascript object>"
      ]
     },
     "metadata": {},
     "output_type": "display_data"
    }
   ],
   "source": [
    "available_data = plout.select(\n",
    "    F.col(\"VectorAssembler_features\").alias(\"features\"),\n",
    "    F.col(\"isFraud\").alias(\n",
    "        \"label\"\n",
    "    ),  # renaming VectorAssembler_features to features & isFraud to lable, this renaming is mandatory in spark\n",
    ")"
   ]
  },
  {
   "cell_type": "code",
   "execution_count": 29,
   "metadata": {},
   "outputs": [
    {
     "name": "stdout",
     "output_type": "stream",
     "text": [
      "+--------------------------------------------------+-----+\n",
      "|features                                          |label|\n",
      "+--------------------------------------------------+-----+\n",
      "|[8.44,39384.0,39392.44,0.0,0.0,1.0,0.0]           |0    |\n",
      "|[12.79,601743.0,601755.79,0.0,0.0,1.0,0.0]        |0    |\n",
      "|[14.4,1.143460813E7,1.143462253E7,0.0,0.0,1.0,0.0]|0    |\n",
      "|[15.52,4368030.06,4368045.59,0.0,0.0,1.0,0.0]     |0    |\n",
      "|[15.59,1.64294897E7,1.642950528E7,0.0,0.0,1.0,0.0]|0    |\n",
      "|[18.53,951352.78,951371.31,0.0,0.0,1.0,0.0]       |0    |\n",
      "|[21.15,2729078.29,2729099.44,0.0,0.0,1.0,0.0]     |0    |\n",
      "|[22.67,405940.0,405962.67,0.0,0.0,1.0,0.0]        |0    |\n",
      "|[25.01,3077402.04,3077427.04,0.0,0.0,1.0,0.0]     |0    |\n",
      "|[34.05,90282.0,90316.05,0.0,0.0,1.0,0.0]          |0    |\n",
      "+--------------------------------------------------+-----+\n",
      "only showing top 10 rows\n",
      "\n"
     ]
    },
    {
     "data": {
      "application/javascript": [
       "\n",
       "            setTimeout(function() {\n",
       "                var nbb_cell_id = 29;\n",
       "                var nbb_unformatted_code = \"available_data.show(n=10, truncate=False)\";\n",
       "                var nbb_formatted_code = \"available_data.show(n=10, truncate=False)\";\n",
       "                var nbb_cells = Jupyter.notebook.get_cells();\n",
       "                for (var i = 0; i < nbb_cells.length; ++i) {\n",
       "                    if (nbb_cells[i].input_prompt_number == nbb_cell_id) {\n",
       "                        if (nbb_cells[i].get_text() == nbb_unformatted_code) {\n",
       "                             nbb_cells[i].set_text(nbb_formatted_code);\n",
       "                        }\n",
       "                        break;\n",
       "                    }\n",
       "                }\n",
       "            }, 500);\n",
       "            "
      ],
      "text/plain": [
       "<IPython.core.display.Javascript object>"
      ]
     },
     "metadata": {},
     "output_type": "display_data"
    }
   ],
   "source": [
    "available_data.show(n=10, truncate=False)"
   ]
  },
  {
   "cell_type": "code",
   "execution_count": 31,
   "metadata": {},
   "outputs": [
    {
     "data": {
      "application/javascript": [
       "\n",
       "            setTimeout(function() {\n",
       "                var nbb_cell_id = 31;\n",
       "                var nbb_unformatted_code = \"model= LogisticRegression().fit(available_data) #applying Log_Reg model to our data \";\n",
       "                var nbb_formatted_code = \"model = LogisticRegression().fit(available_data)  # applying Log_Reg model to our data\";\n",
       "                var nbb_cells = Jupyter.notebook.get_cells();\n",
       "                for (var i = 0; i < nbb_cells.length; ++i) {\n",
       "                    if (nbb_cells[i].input_prompt_number == nbb_cell_id) {\n",
       "                        if (nbb_cells[i].get_text() == nbb_unformatted_code) {\n",
       "                             nbb_cells[i].set_text(nbb_formatted_code);\n",
       "                        }\n",
       "                        break;\n",
       "                    }\n",
       "                }\n",
       "            }, 500);\n",
       "            "
      ],
      "text/plain": [
       "<IPython.core.display.Javascript object>"
      ]
     },
     "metadata": {},
     "output_type": "display_data"
    }
   ],
   "source": [
    "model= LogisticRegression().fit(available_data) #applying Log_Reg model to our data \n"
   ]
  },
  {
   "cell_type": "code",
   "execution_count": 32,
   "metadata": {},
   "outputs": [
    {
     "data": {
      "text/plain": [
       "0.9936997607170124"
      ]
     },
     "execution_count": 32,
     "metadata": {},
     "output_type": "execute_result"
    },
    {
     "data": {
      "application/javascript": [
       "\n",
       "            setTimeout(function() {\n",
       "                var nbb_cell_id = 32;\n",
       "                var nbb_unformatted_code = \"model.summary.areaUnderROC\";\n",
       "                var nbb_formatted_code = \"model.summary.areaUnderROC\";\n",
       "                var nbb_cells = Jupyter.notebook.get_cells();\n",
       "                for (var i = 0; i < nbb_cells.length; ++i) {\n",
       "                    if (nbb_cells[i].input_prompt_number == nbb_cell_id) {\n",
       "                        if (nbb_cells[i].get_text() == nbb_unformatted_code) {\n",
       "                             nbb_cells[i].set_text(nbb_formatted_code);\n",
       "                        }\n",
       "                        break;\n",
       "                    }\n",
       "                }\n",
       "            }, 500);\n",
       "            "
      ],
      "text/plain": [
       "<IPython.core.display.Javascript object>"
      ]
     },
     "metadata": {},
     "output_type": "display_data"
    }
   ],
   "source": [
    "model.summary.areaUnderROC #Roc is the curve of the graph that shows binary performance of classification models by\n",
    "                           #plotting tru positive & false positive values"
   ]
  },
  {
   "cell_type": "code",
   "execution_count": 34,
   "metadata": {},
   "outputs": [
    {
     "name": "stdout",
     "output_type": "stream",
     "text": [
      "+-------------------+-------------------+\n",
      "|             recall|          precision|\n",
      "+-------------------+-------------------+\n",
      "|                0.0| 0.9299691040164778|\n",
      "|0.37562396006655574| 0.9299691040164778|\n",
      "| 0.4937603993344426| 0.6755833807626637|\n",
      "| 0.5603161397670549| 0.5296893432953205|\n",
      "| 0.6027454242928453|0.43526584559927906|\n",
      "| 0.6335274542429284| 0.3701093560145808|\n",
      "| 0.6655574043261231| 0.3264639869414405|\n",
      "| 0.6909317803660566|0.29206963249516443|\n",
      "| 0.7167221297836939|0.26618260466553373|\n",
      "| 0.7391846921797005|0.24479955916792948|\n",
      "| 0.7591514143094842|0.22684897451833436|\n",
      "| 0.7778702163061564| 0.2117540482391575|\n",
      "| 0.7915973377703827|0.19787875636893001|\n",
      "| 0.8107321131447587| 0.1873498029414592|\n",
      "| 0.8157237936772047|0.17526141746358032|\n",
      "| 0.8190515806988353| 0.1644258872651357|\n",
      "| 0.8219633943427621| 0.1548467988402163|\n",
      "| 0.8244592346089851|0.14630545508230605|\n",
      "| 0.8290349417637272| 0.1390400446490861|\n",
      "| 0.8306988352745425|0.13207671957671957|\n",
      "+-------------------+-------------------+\n",
      "only showing top 20 rows\n",
      "\n"
     ]
    },
    {
     "data": {
      "application/javascript": [
       "\n",
       "            setTimeout(function() {\n",
       "                var nbb_cell_id = 34;\n",
       "                var nbb_unformatted_code = \"model.summary.pr.show()  #recall= TP/(TP+FN) & precision= TP/(TP+FP)\";\n",
       "                var nbb_formatted_code = \"model.summary.pr.show()  # recall= TP/(TP+FN) & precision= TP/(TP+FP)\";\n",
       "                var nbb_cells = Jupyter.notebook.get_cells();\n",
       "                for (var i = 0; i < nbb_cells.length; ++i) {\n",
       "                    if (nbb_cells[i].input_prompt_number == nbb_cell_id) {\n",
       "                        if (nbb_cells[i].get_text() == nbb_unformatted_code) {\n",
       "                             nbb_cells[i].set_text(nbb_formatted_code);\n",
       "                        }\n",
       "                        break;\n",
       "                    }\n",
       "                }\n",
       "            }, 500);\n",
       "            "
      ],
      "text/plain": [
       "<IPython.core.display.Javascript object>"
      ]
     },
     "metadata": {},
     "output_type": "display_data"
    }
   ],
   "source": [
    "model.summary.pr.show()  # recall= TP/(TP+FN), precision= TP/(TP+FP)"
   ]
  },
  {
   "cell_type": "code",
   "execution_count": null,
   "metadata": {},
   "outputs": [],
   "source": [
    "# Ashutosh Mahajan, M.Sc. Web and Data Science, University of Koblenz-Landau ,Germany."
   ]
  }
 ],
 "metadata": {
  "kernelspec": {
   "display_name": "Python 3",
   "language": "python",
   "name": "python3"
  },
  "language_info": {
   "codemirror_mode": {
    "name": "ipython",
    "version": 3
   },
   "file_extension": ".py",
   "mimetype": "text/x-python",
   "name": "python",
   "nbconvert_exporter": "python",
   "pygments_lexer": "ipython3",
   "version": "3.8.3"
  }
 },
 "nbformat": 4,
 "nbformat_minor": 4
}
