{
 "cells": [
  {
   "cell_type": "code",
   "execution_count": null,
   "id": "5bb4c7b8",
   "metadata": {},
   "outputs": [],
   "source": [
    "#Shape detection in single shape images:\n",
    "\n",
    "import cv2\n",
    "\n",
    "shapes_img= cv2.imread(\"C:/Users/mahaj/Downloads/triangle.jpg\")\n",
    "graying = cv2.cvtColor(shapes_img, cv2.COLOR_BGR2GRAY) \n",
    "\n",
    "#find edges\n",
    "_, thresholdval= cv2.threshold(graying, 240, 255, cv2.THRESH_BINARY)\n",
    "cont, hierarchy = cv2.findContours(thresholdval, cv2.RETR_TREE, cv2.CHAIN_APPROX_NONE)\n",
    "\n",
    "for i, contouring in enumerate(cont):  #skip if whole image is considered as a shape\n",
    "    if i== 0:\n",
    "        continue\n",
    "        \n",
    "#approximation function (ignore minor defects in guessing shapes)\n",
    "precision_approx= 0.01* cv2.arcLength(contouring, True) #define precision for approximation function\n",
    "shape_approx= cv2.approxPolyDP(contouring, precision_approx, True)\n",
    "\n",
    "cv2.drawContours(shapes_img, contouring, 0,(0,0,0), 2) #(image, contour, color, thickness)\n",
    "\n",
    "#coordinates of contour and centering\n",
    "x, y, width, height= cv2.boundingRect(shape_approx)\n",
    "centerX= int(x+ (width//2))\n",
    "centerY= int(y+ (height//2))\n",
    "\n",
    "pts= (centerX, centerY)\n",
    "color=(255,0,0)\n",
    "\n",
    "#detect final shape by number of corners:\n",
    "\n",
    "if len(shape_approx)==3:\n",
    "    cv2.putText(shapes_img, \"Triangle\", pts, cv2.FONT_ITALIC, 1, color, 1)\n",
    "elif len(shape_approx)==4:\n",
    "    cv2.putText(shapes_img, \"Quadrilateral\", pts, cv2.FONT_ITALIC, 1, color, 1)\n",
    "elif len(shape_approx)==5:\n",
    "    cv2.putText(shapes_img, \"Pentagon\", pts, cv2.FONT_ITALIC, 1, color, 1)\n",
    "elif len(shape_approx)==6:\n",
    "    cv2.putText(shapes_img, \"Hexagon\", pts, cv2.FONT_ITALIC, 1, color, 1)\n",
    "else:\n",
    "    cv2.putText(shapes_img, \"Circle\", pts, cv2.FONT_ITALIC, 1, color, 1)\n",
    "\n",
    "\n",
    "cv2.imshow(\"Window\", shapes_img)\n",
    "cv2.waitKey(0)\n"
   ]
  },
  {
   "cell_type": "code",
   "execution_count": null,
   "id": "fb19b3bb",
   "metadata": {},
   "outputs": [],
   "source": [
    "#Face detection in images:\n",
    "\n",
    "#using inbuild face detection cascade in OpenCV\n",
    "cascade= cv2.CascadeClassifier(r\"C:\\Users\\mahaj\\anaconda3\\Lib\\site-packages\\cv2\\data\\haarcascade_frontalface_default.xml\")\n",
    "img_facedetect= cv2.imread(\"C:/Users/mahaj/Downloads/people.jpg\")\n",
    "gray_img_facedetect= cv2.cvtColor(img_facedetect, cv2.COLOR_BGR2GRAY) \n",
    "\n",
    "face_find= cascade.detectMultiScale(gray_img_facedetect, 1.1, 4) #1.1=scaling factor, 4=nearest neighbours\n",
    "\n",
    "#boxing the faces\n",
    "for(x,y, wi, he) in face_find:\n",
    "    cv2.rectangle(img_facedetect,(x,y), (x+wi,y+he), (0,0,255),4)\n",
    "    \n",
    "cv2.imshow(\"Window\", img_facedetect)\n",
    "cv2.waitKey(0)"
   ]
  },
  {
   "cell_type": "code",
   "execution_count": null,
   "id": "c12f5d58",
   "metadata": {},
   "outputs": [],
   "source": [
    "#Ashutosh Mahajan"
   ]
  }
 ],
 "metadata": {
  "kernelspec": {
   "display_name": "Python 3 (ipykernel)",
   "language": "python",
   "name": "python3"
  },
  "language_info": {
   "codemirror_mode": {
    "name": "ipython",
    "version": 3
   },
   "file_extension": ".py",
   "mimetype": "text/x-python",
   "name": "python",
   "nbconvert_exporter": "python",
   "pygments_lexer": "ipython3",
   "version": "3.9.7"
  }
 },
 "nbformat": 4,
 "nbformat_minor": 5
}
