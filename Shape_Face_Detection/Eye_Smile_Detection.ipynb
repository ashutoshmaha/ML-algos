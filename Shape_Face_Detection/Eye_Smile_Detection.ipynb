{
 "cells": [
  {
   "cell_type": "code",
   "execution_count": 31,
   "id": "6ba2867a",
   "metadata": {},
   "outputs": [],
   "source": [
    "import cv2\n",
    "\n",
    "#USE OF CASCADES\n",
    "cascade_forFace= cv2.CascadeClassifier(r\"C:\\Users\\mahaj\\anaconda3\\Lib\\site-packages\\cv2\\data\\haarcascade_frontalface_default.xml\")\n",
    "cascade_forEye= cv2.CascadeClassifier(r\"C:/Users/mahaj/anaconda3/Lib/site-packages/cv2/data/haarcascade_eye.xml\")\n",
    "cascade_forSmile= cv2.CascadeClassifier(r\"C:/Users/mahaj/anaconda3/Lib/site-packages/cv2/data/haarcascade_smile.xml\")\n",
    "\n",
    "\n",
    "captr= cv2.VideoCapture(0)\n",
    "r, image= captr.read()\n",
    "# image= cv2.imread(\"C:/Users/mahaj/Downloads/people.jpg\") #image reading instead of video reading\n",
    "gray_img= cv2.cvtColor(image, cv2.COLOR_BGR2GRAY)\n",
    "\n",
    "detect_faces = cascade_forFace.detectMultiScale(gray_img, 1.4, 4)\n",
    "color1, color2, color3=(0,0,255), (255,0,0), (0,255,255)\n",
    "\n",
    "#FACE DETECTION\n",
    "for (x,y, wi, he) in detect_faces: \n",
    "        cv2.rectangle(image,(x,y), (x+wi,y+he), color1,3)\n",
    "        face_boundry_gray= gray_img[y:y+he, x:x+wi]\n",
    "        face_boundry_colored= image[y:y+he, x:x+wi]\n",
    "\n",
    "#EYE DETECTION\n",
    "        eye_detect= cascade_forEye.detectMultiScale(face_boundry_gray)\n",
    "        for (eye_x,eye_y, eye_wi, eye_he) in eye_detect:\n",
    "            cv2.rectangle(face_boundry_colored,(eye_x,eye_y), (eye_x+eye_wi,eye_y+eye_he), color2 ,3)\n",
    "\n",
    "# SMILE DETECTION\n",
    "            smile_detect= cascade_forSmile.detectMultiScale(face_boundry_gray)\n",
    "            for (smile_x,smile_y, smile_wi, smile_he) in smile_detect:\n",
    "                cv2.rectangle(face_boundry_colored,(smile_x,smile_y), (smile_x+smile_wi,smile_y+smile_he), color3 ,3)\n",
    "            \n",
    "cv2.imshow(\"Window\", image)\n",
    "intrpt= cv2.waitKey(0) & 0xff\n",
    "if intrpt==500:\n",
    "    print(\"Stop!\")\n",
    "\n",
    "captr.release()\n",
    "cv2.destroyAllWindows()"
   ]
  },
  {
   "cell_type": "code",
   "execution_count": null,
   "id": "7223a037",
   "metadata": {},
   "outputs": [],
   "source": [
    "#Ashutosh Mahajan"
   ]
  }
 ],
 "metadata": {
  "kernelspec": {
   "display_name": "Python 3 (ipykernel)",
   "language": "python",
   "name": "python3"
  },
  "language_info": {
   "codemirror_mode": {
    "name": "ipython",
    "version": 3
   },
   "file_extension": ".py",
   "mimetype": "text/x-python",
   "name": "python",
   "nbconvert_exporter": "python",
   "pygments_lexer": "ipython3",
   "version": "3.9.7"
  }
 },
 "nbformat": 4,
 "nbformat_minor": 5
}
